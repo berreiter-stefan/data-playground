{
 "cells": [
  {
   "cell_type": "code",
   "execution_count": 1,
   "metadata": {
    "collapsed": true
   },
   "outputs": [
    {
     "name": "stderr",
     "output_type": "stream",
     "text": [
      "[nltk_data] Downloading package stopwords to\n",
      "[nltk_data]     /Users/stefanberreiter/nltk_data...\n",
      "[nltk_data]   Package stopwords is already up-to-date!\n"
     ]
    }
   ],
   "source": [
    "import pandas as pd\n",
    "from src.data_cleaning import TextProcessor"
   ]
  },
  {
   "cell_type": "code",
   "execution_count": 2,
   "outputs": [
    {
     "data": {
      "text/plain": "   rating       date             variation  \\\n0       5  31-Jul-18      Charcoal Fabric    \n1       5  31-Jul-18      Charcoal Fabric    \n2       4  31-Jul-18        Walnut Finish    \n3       5  31-Jul-18      Charcoal Fabric    \n4       5  31-Jul-18      Charcoal Fabric    \n5       5  31-Jul-18  Heather Gray Fabric    \n6       3  31-Jul-18     Sandstone Fabric    \n7       5  31-Jul-18      Charcoal Fabric    \n8       5  30-Jul-18  Heather Gray Fabric    \n9       5  30-Jul-18  Heather Gray Fabric    \n\n                                    verified_reviews  feedback  \n0                                      Love my Echo!         1  \n1                                          Loved it!         1  \n2  Sometimes while playing a game, you can answer...         1  \n3  I have had a lot of fun with this thing. My 4 ...         1  \n4                                              Music         1  \n5  I received the echo as a gift. I needed anothe...         1  \n6  Without having a cellphone, I cannot use many ...         1  \n7  I think this is the 5th one I've purchased. I'...         1  \n8                                        looks great         1  \n9  Love it! I’ve listened to songs I haven’t hear...         1  ",
      "text/html": "<div>\n<style scoped>\n    .dataframe tbody tr th:only-of-type {\n        vertical-align: middle;\n    }\n\n    .dataframe tbody tr th {\n        vertical-align: top;\n    }\n\n    .dataframe thead th {\n        text-align: right;\n    }\n</style>\n<table border=\"1\" class=\"dataframe\">\n  <thead>\n    <tr style=\"text-align: right;\">\n      <th></th>\n      <th>rating</th>\n      <th>date</th>\n      <th>variation</th>\n      <th>verified_reviews</th>\n      <th>feedback</th>\n    </tr>\n  </thead>\n  <tbody>\n    <tr>\n      <th>0</th>\n      <td>5</td>\n      <td>31-Jul-18</td>\n      <td>Charcoal Fabric</td>\n      <td>Love my Echo!</td>\n      <td>1</td>\n    </tr>\n    <tr>\n      <th>1</th>\n      <td>5</td>\n      <td>31-Jul-18</td>\n      <td>Charcoal Fabric</td>\n      <td>Loved it!</td>\n      <td>1</td>\n    </tr>\n    <tr>\n      <th>2</th>\n      <td>4</td>\n      <td>31-Jul-18</td>\n      <td>Walnut Finish</td>\n      <td>Sometimes while playing a game, you can answer...</td>\n      <td>1</td>\n    </tr>\n    <tr>\n      <th>3</th>\n      <td>5</td>\n      <td>31-Jul-18</td>\n      <td>Charcoal Fabric</td>\n      <td>I have had a lot of fun with this thing. My 4 ...</td>\n      <td>1</td>\n    </tr>\n    <tr>\n      <th>4</th>\n      <td>5</td>\n      <td>31-Jul-18</td>\n      <td>Charcoal Fabric</td>\n      <td>Music</td>\n      <td>1</td>\n    </tr>\n    <tr>\n      <th>5</th>\n      <td>5</td>\n      <td>31-Jul-18</td>\n      <td>Heather Gray Fabric</td>\n      <td>I received the echo as a gift. I needed anothe...</td>\n      <td>1</td>\n    </tr>\n    <tr>\n      <th>6</th>\n      <td>3</td>\n      <td>31-Jul-18</td>\n      <td>Sandstone Fabric</td>\n      <td>Without having a cellphone, I cannot use many ...</td>\n      <td>1</td>\n    </tr>\n    <tr>\n      <th>7</th>\n      <td>5</td>\n      <td>31-Jul-18</td>\n      <td>Charcoal Fabric</td>\n      <td>I think this is the 5th one I've purchased. I'...</td>\n      <td>1</td>\n    </tr>\n    <tr>\n      <th>8</th>\n      <td>5</td>\n      <td>30-Jul-18</td>\n      <td>Heather Gray Fabric</td>\n      <td>looks great</td>\n      <td>1</td>\n    </tr>\n    <tr>\n      <th>9</th>\n      <td>5</td>\n      <td>30-Jul-18</td>\n      <td>Heather Gray Fabric</td>\n      <td>Love it! I’ve listened to songs I haven’t hear...</td>\n      <td>1</td>\n    </tr>\n  </tbody>\n</table>\n</div>"
     },
     "execution_count": 2,
     "metadata": {},
     "output_type": "execute_result"
    }
   ],
   "source": [
    "feedback_df = pd.read_csv(\"raw_data/amazon_alexa.tsv\", delimiter=\"\\t\")\n",
    "feedback_df.head(10)"
   ],
   "metadata": {
    "collapsed": false,
    "pycharm": {
     "name": "#%%\n"
    }
   }
  },
  {
   "cell_type": "code",
   "execution_count": 3,
   "outputs": [],
   "source": [
    "text_proc = TextProcessor()\n",
    "text_proc.add_stop_words([\"love\", \"echo\", \"categories\"])"
   ],
   "metadata": {
    "collapsed": false,
    "pycharm": {
     "name": "#%%\n"
    }
   }
  },
  {
   "cell_type": "code",
   "execution_count": 4,
   "outputs": [
    {
     "data": {
      "text/plain": "   rating       date             variation  \\\n0       5  31-Jul-18      Charcoal Fabric    \n1       5  31-Jul-18      Charcoal Fabric    \n2       4  31-Jul-18        Walnut Finish    \n3       5  31-Jul-18      Charcoal Fabric    \n4       5  31-Jul-18      Charcoal Fabric    \n5       5  31-Jul-18  Heather Gray Fabric    \n6       3  31-Jul-18     Sandstone Fabric    \n7       5  31-Jul-18      Charcoal Fabric    \n8       5  30-Jul-18  Heather Gray Fabric    \n9       5  30-Jul-18  Heather Gray Fabric    \n\n                                    verified_reviews  feedback  \\\n0                                      Love my Echo!         1   \n1                                          Loved it!         1   \n2  Sometimes while playing a game, you can answer...         1   \n3  I have had a lot of fun with this thing. My 4 ...         1   \n4                                              Music         1   \n5  I received the echo as a gift. I needed anothe...         1   \n6  Without having a cellphone, I cannot use many ...         1   \n7  I think this is the 5th one I've purchased. I'...         1   \n8                                        looks great         1   \n9  Love it! I’ve listened to songs I haven’t hear...         1   \n\n                            verified_reviews_cleaned  \\\n0                                       love my echo   \n1                                           loved it   \n2  sometimes while playing a game you can answer ...   \n3  i have had a lot of fun with this thing my 4 y...   \n4                                              music   \n5  i received the echo as a gift i needed another...   \n6  without having a cellphone i cannot use many o...   \n7  i think this is the 5th one i've purchased i'm...   \n8                                        looks great   \n9  love it i’ve listened to songs i haven’t heard...   \n\n                                   lemmatized_review  \\\n0                                   [love, my, echo]   \n1                                         [love, it]   \n2  [sometimes, while, play, a, game, you, can, an...   \n3  [i, have, have, a, lot, of, fun, with, this, t...   \n4                                            [music]   \n5  [i, receive, the, echo, as, a, gift, i, need, ...   \n6  [without, have, a, cellphone, i, cannot, use, ...   \n7  [i, think, this, be, the, 5th, one, i've, purc...   \n8                                      [look, great]   \n9  [love, it, i’ve, listen, to, songs, i, haven’t...   \n\n                             lemmatized_review_clean  \\\n0                                                 []   \n1                                                 []   \n2  [sometimes, play, game, answer, question, corr...   \n3  [lot, fun, thing, 4, yr, old, learn, dinosaurs...   \n4                                            [music]   \n5  [receive, gift, need, another, bluetooth, some...   \n6  [without, cellphone, cannot, use, many, featur...   \n7  [think, 5th, one, i've, purchase, i'm, work, g...   \n8                                      [look, great]   \n9  [i’ve, listen, songs, haven’t, hear, since, ch...   \n\n                             unique_words_lemmatized  rel_word_cnt  \n0                                                 []             3  \n1                                                 []             2  \n2  [turn, say, correctly, game, alexa, question, ...            38  \n3  [learn, dinosaurs, control, game, sound, thing...            34  \n4                                            [music]             1  \n5  [music, speaker, easily, receive, wait, can’t,...            32  \n6  [cannot, reason, without, great, r, seem, rand...            75  \n7  [every, specifily, get, play, think, offer, 5t...            40  \n8                                      [look, great]             2  \n9  [since, great, listen, childhood, it’s, get, s...            19  ",
      "text/html": "<div>\n<style scoped>\n    .dataframe tbody tr th:only-of-type {\n        vertical-align: middle;\n    }\n\n    .dataframe tbody tr th {\n        vertical-align: top;\n    }\n\n    .dataframe thead th {\n        text-align: right;\n    }\n</style>\n<table border=\"1\" class=\"dataframe\">\n  <thead>\n    <tr style=\"text-align: right;\">\n      <th></th>\n      <th>rating</th>\n      <th>date</th>\n      <th>variation</th>\n      <th>verified_reviews</th>\n      <th>feedback</th>\n      <th>verified_reviews_cleaned</th>\n      <th>lemmatized_review</th>\n      <th>lemmatized_review_clean</th>\n      <th>unique_words_lemmatized</th>\n      <th>rel_word_cnt</th>\n    </tr>\n  </thead>\n  <tbody>\n    <tr>\n      <th>0</th>\n      <td>5</td>\n      <td>31-Jul-18</td>\n      <td>Charcoal Fabric</td>\n      <td>Love my Echo!</td>\n      <td>1</td>\n      <td>love my echo</td>\n      <td>[love, my, echo]</td>\n      <td>[]</td>\n      <td>[]</td>\n      <td>3</td>\n    </tr>\n    <tr>\n      <th>1</th>\n      <td>5</td>\n      <td>31-Jul-18</td>\n      <td>Charcoal Fabric</td>\n      <td>Loved it!</td>\n      <td>1</td>\n      <td>loved it</td>\n      <td>[love, it]</td>\n      <td>[]</td>\n      <td>[]</td>\n      <td>2</td>\n    </tr>\n    <tr>\n      <th>2</th>\n      <td>4</td>\n      <td>31-Jul-18</td>\n      <td>Walnut Finish</td>\n      <td>Sometimes while playing a game, you can answer...</td>\n      <td>1</td>\n      <td>sometimes while playing a game you can answer ...</td>\n      <td>[sometimes, while, play, a, game, you, can, an...</td>\n      <td>[sometimes, play, game, answer, question, corr...</td>\n      <td>[turn, say, correctly, game, alexa, question, ...</td>\n      <td>38</td>\n    </tr>\n    <tr>\n      <th>3</th>\n      <td>5</td>\n      <td>31-Jul-18</td>\n      <td>Charcoal Fabric</td>\n      <td>I have had a lot of fun with this thing. My 4 ...</td>\n      <td>1</td>\n      <td>i have had a lot of fun with this thing my 4 y...</td>\n      <td>[i, have, have, a, lot, of, fun, with, this, t...</td>\n      <td>[lot, fun, thing, 4, yr, old, learn, dinosaurs...</td>\n      <td>[learn, dinosaurs, control, game, sound, thing...</td>\n      <td>34</td>\n    </tr>\n    <tr>\n      <th>4</th>\n      <td>5</td>\n      <td>31-Jul-18</td>\n      <td>Charcoal Fabric</td>\n      <td>Music</td>\n      <td>1</td>\n      <td>music</td>\n      <td>[music]</td>\n      <td>[music]</td>\n      <td>[music]</td>\n      <td>1</td>\n    </tr>\n    <tr>\n      <th>5</th>\n      <td>5</td>\n      <td>31-Jul-18</td>\n      <td>Heather Gray Fabric</td>\n      <td>I received the echo as a gift. I needed anothe...</td>\n      <td>1</td>\n      <td>i received the echo as a gift i needed another...</td>\n      <td>[i, receive, the, echo, as, a, gift, i, need, ...</td>\n      <td>[receive, gift, need, another, bluetooth, some...</td>\n      <td>[music, speaker, easily, receive, wait, can’t,...</td>\n      <td>32</td>\n    </tr>\n    <tr>\n      <th>6</th>\n      <td>3</td>\n      <td>31-Jul-18</td>\n      <td>Sandstone Fabric</td>\n      <td>Without having a cellphone, I cannot use many ...</td>\n      <td>1</td>\n      <td>without having a cellphone i cannot use many o...</td>\n      <td>[without, have, a, cellphone, i, cannot, use, ...</td>\n      <td>[without, cellphone, cannot, use, many, featur...</td>\n      <td>[cannot, reason, without, great, r, seem, rand...</td>\n      <td>75</td>\n    </tr>\n    <tr>\n      <th>7</th>\n      <td>5</td>\n      <td>31-Jul-18</td>\n      <td>Charcoal Fabric</td>\n      <td>I think this is the 5th one I've purchased. I'...</td>\n      <td>1</td>\n      <td>i think this is the 5th one i've purchased i'm...</td>\n      <td>[i, think, this, be, the, 5th, one, i've, purc...</td>\n      <td>[think, 5th, one, i've, purchase, i'm, work, g...</td>\n      <td>[every, specifily, get, play, think, offer, 5t...</td>\n      <td>40</td>\n    </tr>\n    <tr>\n      <th>8</th>\n      <td>5</td>\n      <td>30-Jul-18</td>\n      <td>Heather Gray Fabric</td>\n      <td>looks great</td>\n      <td>1</td>\n      <td>looks great</td>\n      <td>[look, great]</td>\n      <td>[look, great]</td>\n      <td>[look, great]</td>\n      <td>2</td>\n    </tr>\n    <tr>\n      <th>9</th>\n      <td>5</td>\n      <td>30-Jul-18</td>\n      <td>Heather Gray Fabric</td>\n      <td>Love it! I’ve listened to songs I haven’t hear...</td>\n      <td>1</td>\n      <td>love it i’ve listened to songs i haven’t heard...</td>\n      <td>[love, it, i’ve, listen, to, songs, i, haven’t...</td>\n      <td>[i’ve, listen, songs, haven’t, hear, since, ch...</td>\n      <td>[since, great, listen, childhood, it’s, get, s...</td>\n      <td>19</td>\n    </tr>\n  </tbody>\n</table>\n</div>"
     },
     "execution_count": 4,
     "metadata": {},
     "output_type": "execute_result"
    }
   ],
   "source": [
    "feedback_df[\"verified_reviews_cleaned\"] = feedback_df[\"verified_reviews\"].apply(\n",
    "    text_proc.clean_text\n",
    ")\n",
    "feedback_df[\"lemmatized_review\"] = feedback_df[\"verified_reviews_cleaned\"].apply(\n",
    "    text_proc.lemmatize_text\n",
    ")\n",
    "feedback_df[\"lemmatized_review_clean\"] = feedback_df[\"lemmatized_review\"].apply(\n",
    "    text_proc.relevant_tokens\n",
    ")\n",
    "feedback_df[\"unique_words_lemmatized\"] = feedback_df[\"lemmatized_review_clean\"].apply(\n",
    "    text_proc.unique_words\n",
    ")\n",
    "feedback_df[\"rel_word_cnt\"] = feedback_df[\"lemmatized_review\"].apply(\n",
    "    text_proc.count_len_of_words\n",
    ")\n",
    "\n",
    "feedback_df.head(10)"
   ],
   "metadata": {
    "collapsed": false,
    "pycharm": {
     "name": "#%%\n"
    }
   }
  },
  {
   "cell_type": "code",
   "execution_count": 4,
   "outputs": [],
   "source": [],
   "metadata": {
    "collapsed": false,
    "pycharm": {
     "name": "#%%\n"
    }
   }
  }
 ],
 "metadata": {
  "kernelspec": {
   "display_name": "Python 3",
   "language": "python",
   "name": "python3"
  },
  "language_info": {
   "codemirror_mode": {
    "name": "ipython",
    "version": 2
   },
   "file_extension": ".py",
   "mimetype": "text/x-python",
   "name": "python",
   "nbconvert_exporter": "python",
   "pygments_lexer": "ipython2",
   "version": "2.7.6"
  }
 },
 "nbformat": 4,
 "nbformat_minor": 0
}